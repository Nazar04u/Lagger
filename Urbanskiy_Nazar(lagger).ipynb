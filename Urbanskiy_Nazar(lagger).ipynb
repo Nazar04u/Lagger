{
 "cells": [
  {
   "cell_type": "code",
   "execution_count": 1,
   "id": "cae01d27-1fa0-4e41-a1b5-6522878a4003",
   "metadata": {
    "tags": []
   },
   "outputs": [],
   "source": [
    "import math\n",
    "import matplotlib.pyplot as plt\n",
    "import numpy as np\n",
    "import pandas as pd\n",
    "import ipywidgets as widgets"
   ]
  },
  {
   "cell_type": "code",
   "execution_count": 2,
   "id": "bf616563-db4b-40d0-8b24-0ff205f6b99e",
   "metadata": {
    "tags": []
   },
   "outputs": [
    {
     "data": {
      "application/vnd.jupyter.widget-view+json": {
       "model_id": "81ca96c86c814297af628c5fb7b58fe9",
       "version_major": 2,
       "version_minor": 0
      },
      "text/plain": [
       "interactive(children=(BoundedIntText(value=7, description='t:', max=1000), BoundedIntText(value=5, description…"
      ]
     },
     "metadata": {},
     "output_type": "display_data"
    },
    {
     "data": {
      "text/plain": [
       "<function __main__.lagger(t, n, beta=2, sigma=4)>"
      ]
     },
     "execution_count": 2,
     "metadata": {},
     "output_type": "execute_result"
    }
   ],
   "source": [
    "def lagger(t, n, beta=2, sigma=4):\n",
    "    l_0 = np.sqrt(sigma) * (np.exp(-beta * t / 2))\n",
    "    l_1 = np.sqrt(sigma) * (1 - sigma * t) * (np.exp(-beta * t / 2))\n",
    "\n",
    "    if n == 0:\n",
    "        return l_0\n",
    "    if n == 1:\n",
    "        return l_1\n",
    "    if n >= 2:\n",
    "        l_next = (2 * 2 - 1 - t * sigma) / 2 * l_1 - (2 - 1) / 2 * l_0\n",
    "        for j in range(3, n + 1):\n",
    "            l_0 = l_1\n",
    "            l_1 = l_next\n",
    "            l_next = (2 * j - 1 - t * sigma) / j * l_1 - (j - 1) / j * l_0\n",
    "        return l_next\n",
    "t = widgets.BoundedIntText(\n",
    "    value=7,\n",
    "    min=0,\n",
    "    max=1000,\n",
    "    step=1,\n",
    "    description='t:',\n",
    "    disabled=False\n",
    ")\n",
    "n =widgets.BoundedIntText(\n",
    "    value=5,\n",
    "    min=0,\n",
    "    max=1000,\n",
    "    step=1,\n",
    "    description='n:',\n",
    "    disabled=False\n",
    ")\n",
    "widgets.interact(lagger, t=t, n=n, sigma=widgets.fixed(2), beta=widgets.fixed(4))"
   ]
  },
  {
   "cell_type": "code",
   "execution_count": 3,
   "id": "ad5ef363-2fdd-489e-a541-9173864c77da",
   "metadata": {
    "tags": []
   },
   "outputs": [
    {
     "data": {
      "application/vnd.jupyter.widget-view+json": {
       "model_id": "589100284f2e4fffb74caf6eff1e99cb",
       "version_major": 2,
       "version_minor": 0
      },
      "text/plain": [
       "interactive(children=(BoundedIntText(value=5, description='n:', max=1000), BoundedIntText(value=4, description…"
      ]
     },
     "metadata": {},
     "output_type": "display_data"
    },
    {
     "data": {
      "text/plain": [
       "<function __main__.tabulate_lagger(T, n, beta, gamma)>"
      ]
     },
     "execution_count": 3,
     "metadata": {},
     "output_type": "execute_result"
    }
   ],
   "source": [
    "def tabulate_lagger(T, n, beta, gamma):\n",
    "    t = np.linspace(0, T, 10)\n",
    "    results = lagger(t, n, beta, gamma)\n",
    "    df = pd.DataFrame({'t': t, 'l': results})\n",
    "    return df\n",
    "\n",
    "n =widgets.BoundedIntText(\n",
    "    value=5,\n",
    "    min=0,\n",
    "    max=1000,\n",
    "    step=1,\n",
    "    description='n:',\n",
    "    disabled=False\n",
    ")\n",
    "beta =widgets.BoundedIntText(\n",
    "    value=4,\n",
    "    min=0,\n",
    "    max=1000,\n",
    "    step=1,\n",
    "    description='beta:',\n",
    "    disabled=False\n",
    ")\n",
    "gamma = widgets.BoundedIntText(\n",
    "    value=2,\n",
    "    min=0,\n",
    "    max=1000,\n",
    "    step=1,\n",
    "    description=\"gamma:\",\n",
    "    disabled=False\n",
    ")\n",
    "widgets.interact(tabulate_lagger, T=widgets.fixed(10), n=n, beta=beta, gamma=gamma)"
   ]
  },
  {
   "cell_type": "code",
   "execution_count": 64,
   "id": "7dabb0f2-f8b1-4b5e-bf89-47dcb7c55a2d",
   "metadata": {
    "tags": []
   },
   "outputs": [],
   "source": [
    "def experiment(n=20, beta=2, sigma=4, eps=0.001):\n",
    "    t = 0\n",
    "    while True:\n",
    "        t += 0.0001\n",
    "        res = []\n",
    "\n",
    "        for i in range(n + 1):\n",
    "            x = abs(lagger(t, n, beta, sigma))\n",
    "            if x < eps:\n",
    "                res.append(x)\n",
    "                if i == n:\n",
    "                    return t, pd.DataFrame({\"results\":res})\n",
    "            else:\n",
    "                break\n",
    "n = widgets.BoundedIntText(\n",
    "    value=20,\n",
    "    min=0,\n",
    "    max=100,\n",
    "    step=1,\n",
    "    description=\"n:\",\n",
    "    disabled=False\n",
    ")\n",
    "beta =widgets.BoundedIntText(\n",
    "    value=4,\n",
    "    min=0,\n",
    "    max=1000,\n",
    "    step=1,\n",
    "    description='beta:',\n",
    "    disabled=False\n",
    ")\n",
    "sigma = widgets.BoundedIntText(\n",
    "    value=2,\n",
    "    min=0,\n",
    "    max=1000,\n",
    "    step=1,\n",
    "    description=\"sigma:\",\n",
    "    disabled=False\n",
    ")\n",
    "eps = widgets.FloatSlider(\n",
    "    value=0.0001,\n",
    "    min=0.00001,\n",
    "    max=0.01,\n",
    "    step=0.001,\n",
    "    description=\"e:\",\n",
    "    disabled=False\n",
    ")"
   ]
  },
  {
   "cell_type": "code",
   "execution_count": 65,
   "id": "d6fa76d1-7628-436a-a441-93aa86f4bd1f",
   "metadata": {
    "tags": []
   },
   "outputs": [
    {
     "data": {
      "application/vnd.jupyter.widget-view+json": {
       "model_id": "f5ebba8859b443f0ac1bcda84e0b6877",
       "version_major": 2,
       "version_minor": 0
      },
      "text/plain": [
       "interactive(children=(BoundedIntText(value=20, description='n:'), BoundedIntText(value=4, description='beta:',…"
      ]
     },
     "metadata": {},
     "output_type": "display_data"
    }
   ],
   "source": [
    "a = widgets.interact(experiment, n=n, beta=beta, sigma=sigma, eps=eps)"
   ]
  },
  {
   "cell_type": "code",
   "execution_count": 41,
   "id": "e34b7d76-f379-44aa-b887-9be56db9c32a",
   "metadata": {
    "tags": []
   },
   "outputs": [],
   "source": [
    "def quadratic(f, a, b, N=1000):\n",
    "    \n",
    "    x = np.linspace(a, b, N)\n",
    "    s = sum([f(i) for i in x])\n",
    "    return s*abs(b-a)/N"
   ]
  },
  {
   "cell_type": "code",
   "execution_count": 42,
   "id": "0a84c596-ec87-4ed5-955b-02a75feba510",
   "metadata": {
    "tags": []
   },
   "outputs": [],
   "source": [
    "def lagger_transformation(f, n, beta=2, gamma=4):\n",
    "    def integrand(t):\n",
    "        return f(t)*lagger(t, n, beta, gamma)*np.exp(-t*(gamma-beta))\n",
    "    b = experiment(100, beta, gamma)[0]\n",
    "\n",
    "    return quadratic(integrand, 0, b)"
   ]
  },
  {
   "cell_type": "code",
   "execution_count": 43,
   "id": "3d18bb34-9f31-40e5-8874-f412c6c93168",
   "metadata": {
    "tags": []
   },
   "outputs": [
    {
     "name": "stdout",
     "output_type": "stream",
     "text": [
      "1.0498340282276697\n",
      "1.0247084288590376\n",
      "1.0098333397789774\n"
     ]
    }
   ],
   "source": [
    "func = lambda t: np.exp(-t)\n",
    "print(quadratic(func, 0, 100,1000))\n",
    "print(quadratic(func, 0, 100,2000))\n",
    "print(quadratic(func, 0, 100,5000))"
   ]
  },
  {
   "cell_type": "code",
   "execution_count": 44,
   "id": "f2c3b199-b8c0-4002-82ff-ec5f726de0a1",
   "metadata": {
    "tags": []
   },
   "outputs": [],
   "source": [
    "def f(t):\n",
    "    if 0 <= t <= 2 * np.pi:\n",
    "        return np.sin(t - np.pi / 2) + 1\n",
    "    elif t > 2 * np.pi:\n",
    "        return 0"
   ]
  },
  {
   "cell_type": "code",
   "execution_count": 67,
   "id": "0776c741-13d6-491b-947e-deee3bf9bbd6",
   "metadata": {
    "tags": []
   },
   "outputs": [
    {
     "data": {
      "application/vnd.jupyter.widget-view+json": {
       "model_id": "67fbca72ed134755a3908d9aefe6930f",
       "version_major": 2,
       "version_minor": 0
      },
      "text/plain": [
       "interactive(children=(BoundedIntText(value=20, description='n:'), BoundedIntText(value=3, description='t:'), I…"
      ]
     },
     "metadata": {},
     "output_type": "display_data"
    },
    {
     "data": {
      "text/plain": [
       "<function __main__.tabulate_transformation(fi, n, t, eps)>"
      ]
     },
     "execution_count": 67,
     "metadata": {},
     "output_type": "execute_result"
    }
   ],
   "source": [
    "def tabulate_transformation(fi, n, t, eps):\n",
    "    return pd.DataFrame({\"results\": [quadratic(f, t, i, eps) for i in range(n + 1)]})\n",
    "\n",
    "\n",
    "n = widgets.BoundedIntText(\n",
    "    value=20,\n",
    "    min=0,\n",
    "    max=100,\n",
    "    step=1,\n",
    "    description=\"n:\",\n",
    "    disabled=False\n",
    ")\n",
    "t = widgets.BoundedIntText(\n",
    "    value=3,\n",
    "    min=0,\n",
    "    max=100,\n",
    "    step=1,\n",
    "    description=\"t:\",\n",
    "    disabled=False\n",
    ")\n",
    "eps = widgets.IntSlider(\n",
    "    value=5,\n",
    "    min=1,\n",
    "    max=10,\n",
    "    step=1,\n",
    "    description=\"e:\",\n",
    "    disabled=False\n",
    ")\n",
    "\n",
    "widgets.interact(tabulate_transformation, fi=widgets.fixed(f), n=n, t=t, eps=eps)\n"
   ]
  },
  {
   "cell_type": "code",
   "execution_count": 87,
   "id": "ddcbb609-967c-40f7-9433-4363f96e5233",
   "metadata": {
    "tags": []
   },
   "outputs": [
    {
     "data": {
      "application/vnd.jupyter.widget-view+json": {
       "model_id": "5380bf4815bb45b6bf2cff8d23ae3b75",
       "version_major": 2,
       "version_minor": 0
      },
      "text/plain": [
       "interactive(children=(BoundedIntText(value=0, description='t:', max=10), Output()), _dom_classes=('widget-inte…"
      ]
     },
     "metadata": {},
     "output_type": "display_data"
    },
    {
     "data": {
      "text/plain": [
       "<function __main__.reverse_lagger_transformation(lst, t, beta=2, sigma=4)>"
      ]
     },
     "execution_count": 87,
     "metadata": {},
     "output_type": "execute_result"
    }
   ],
   "source": [
    "def reverse_lagger_transformation(lst, t, beta=2, sigma=4):\n",
    "    return sum([lst[\"results\"].values[i] * lagger(t, i) for i in range(len(lst[\"results\"].values))])\n",
    "\n",
    "transf_temp = tabulate_transformation(f, 30, 2, 4)\n",
    "t = widgets.BoundedIntText(\n",
    "    values=3,\n",
    "    min=0,\n",
    "    max=10,\n",
    "    step=1,\n",
    "    description=\"t:\",\n",
    "    disabled=False\n",
    ")\n",
    "\n",
    "widgets.interact(reverse_lagger_transformation, lst=widgets.fixed(transf_temp), t=t, beta=widgets.fixed(2), sigma=widgets.fixed(4))"
   ]
  },
  {
   "cell_type": "code",
   "execution_count": 89,
   "id": "7ef1f892-74bf-4063-b669-b3a355145157",
   "metadata": {
    "tags": []
   },
   "outputs": [],
   "source": [
    "import matplotlib.pyplot as plt\n",
    "def plot_lagger(T, N, beta=2, gamma=4):\n",
    "    fig = plt.figure(figsize=(10, 10))\n",
    "    ax = fig.gca()\n",
    "    for n in range(N+1):\n",
    "        lagger_value = tabulate_lagger(T, n, beta, gamma)\n",
    "        ax.plot(lagger_value['t'], lagger_value['l'], label=f\"n={n}\", linewidth=1.0, alpha=0.8)\n",
    "    \n",
    "    ax.set_xlabel('T')\n",
    "    ax.set_ylabel('Lagger Value')\n",
    "    ax.legend()\n",
    "    ax.grid(True)\n",
    "    plt.show()"
   ]
  },
  {
   "cell_type": "code",
   "execution_count": 91,
   "id": "1eff850c-70c3-4e0d-a6fc-9562f647c7af",
   "metadata": {
    "tags": []
   },
   "outputs": [
    {
     "data": {
      "application/vnd.jupyter.widget-view+json": {
       "model_id": "d6e2595babd24344a5349a18d1786564",
       "version_major": 2,
       "version_minor": 0
      },
      "text/plain": [
       "interactive(children=(BoundedIntText(value=3, description='t:'), BoundedIntText(value=12, description='n:'), I…"
      ]
     },
     "metadata": {},
     "output_type": "display_data"
    },
    {
     "data": {
      "text/plain": [
       "<function __main__.plot_lagger(T, N, beta=2, gamma=4)>"
      ]
     },
     "execution_count": 91,
     "metadata": {},
     "output_type": "execute_result"
    }
   ],
   "source": [
    "N = widgets.BoundedIntText(\n",
    "    value=12,\n",
    "    min=0,\n",
    "    max=100,\n",
    "    step=1,\n",
    "    description=\"N:\",\n",
    "    disabled=False\n",
    ")\n",
    "T = widgets.BoundedIntText(\n",
    "    value=3,\n",
    "    min=0,\n",
    "    max=100,\n",
    "    step=1,\n",
    "    description=\"T:\",\n",
    "    disabled=False\n",
    ")\n",
    "\n",
    "widgets.interact(plot_lagger, N=N, T=T)"
   ]
  },
  {
   "cell_type": "code",
   "execution_count": 96,
   "id": "7098defb-0561-4dac-b021-640e706ecaf6",
   "metadata": {
    "tags": []
   },
   "outputs": [],
   "source": [
    "def plot_transformation(f, n, beta=2, gamma=4):\n",
    "    fig = plt.figure(figsize=(10, 10))\n",
    "    ax = fig.gca()\n",
    "    transform_values = tabulate_transformation(f, n, beta, gamma)\n",
    "    ax.bar(range(0, n + 1), transform_values[\"results\"].values, alpha=0.8, edgecolor='black')\n",
    "\n",
    "    ax.set_xlabel(\"n\")\n",
    "    ax.set_ylabel(\"f\")\n",
    "    ax.set_title(\"Transformation Lagger\")\n",
    "    ax.set_xticks(range(1, n + 1))\n",
    "\n",
    "    ax.grid(True, linestyle='--', alpha=0.7)\n",
    "\n",
    "    plt.axhline(0, color='black', linewidth=1.0, linestyle='--')\n",
    "\n",
    "    fig.tight_layout()\n",
    "    plt.show()"
   ]
  },
  {
   "cell_type": "code",
   "execution_count": 99,
   "id": "6ca87909-f691-44e3-838d-108e0cf3cef7",
   "metadata": {
    "tags": []
   },
   "outputs": [
    {
     "data": {
      "application/vnd.jupyter.widget-view+json": {
       "model_id": "c37b98c70ee14814a9627d2c6147d68d",
       "version_major": 2,
       "version_minor": 0
      },
      "text/plain": [
       "interactive(children=(BoundedIntText(value=12, description='n:'), IntSlider(value=2, description='beta', max=6…"
      ]
     },
     "metadata": {},
     "output_type": "display_data"
    },
    {
     "data": {
      "text/plain": [
       "<function __main__.plot_transformation(f, n, beta=2, gamma=4)>"
      ]
     },
     "execution_count": 99,
     "metadata": {},
     "output_type": "execute_result"
    }
   ],
   "source": [
    "n = widgets.BoundedIntText(\n",
    "    value=12,\n",
    "    min=0,\n",
    "    max=100,\n",
    "    step=1,\n",
    "    description=\"n:\",\n",
    "    disabled=False\n",
    ")\n",
    "\n",
    "widgets.interact(plot_transformation, f=widgets.fixed(f), n=n)"
   ]
  },
  {
   "cell_type": "code",
   "execution_count": 103,
   "id": "647e4560-f8f6-4668-9b7d-81831dc5a7f3",
   "metadata": {
    "tags": []
   },
   "outputs": [],
   "source": [
    "def plot_tranformations(f, n, beta=2, gamma=4, t1=0, t2=2*np.pi):\n",
    "\n",
    "    transform_values = tabulate_transformation(f, n, beta, gamma)\n",
    "    reversed_transform_values = [reverse_lagger_transformation(transform_values, t, beta, gamma) for t in np.linspace(t1, t2, 1000)]\n",
    "\n",
    "    fig = plt.figure(figsize=(10, 10))\n",
    "    ax = fig.gca()\n",
    "\n",
    "    ax.plot(np.linspace(t1, t2, 1000), reversed_transform_values, alpha=0.5, linewidth=3.0)\n",
    "    ax.set_xlabel(\"t\")\n",
    "    ax.set_ylabel(\"f(t)\")\n",
    "    ax.grid(True)\n",
    "    ax.set_title(\"Reversed transformation\")\n",
    "\n",
    "    plt.show()"
   ]
  },
  {
   "cell_type": "code",
   "execution_count": 108,
   "id": "2e8b2464-82a3-4741-8d22-82d4e37f5306",
   "metadata": {
    "tags": []
   },
   "outputs": [
    {
     "data": {
      "application/vnd.jupyter.widget-view+json": {
       "model_id": "74b020610d024309aa4fab901f31a651",
       "version_major": 2,
       "version_minor": 0
      },
      "text/plain": [
       "interactive(children=(BoundedIntText(value=12, description='n:'), IntSlider(value=2, description='beta', max=6…"
      ]
     },
     "metadata": {},
     "output_type": "display_data"
    },
    {
     "data": {
      "text/plain": [
       "<function __main__.plot_tranformations(f, n, beta=2, gamma=4, t1=0, t2=6.283185307179586)>"
      ]
     },
     "execution_count": 108,
     "metadata": {},
     "output_type": "execute_result"
    }
   ],
   "source": [
    "n = widgets.BoundedIntText(\n",
    "    value=12,\n",
    "    min=0,\n",
    "    max=100,\n",
    "    step=1,\n",
    "    description=\"n:\",\n",
    "    disabled=False\n",
    ")\n",
    "t1 =  widgets.FloatSlider(\n",
    "    value=0,\n",
    "    min=-5*np.pi,\n",
    "    max=5*np.pi,\n",
    "    step=np.pi,\n",
    "    description=\"t1:\",\n",
    "    disabled=False\n",
    ")\n",
    "\n",
    "widgets.interact(plot_tranformations, f=widgets.fixed(f), n=n, t1=t1)"
   ]
  },
  {
   "cell_type": "code",
   "execution_count": null,
   "id": "e4312e72-4e96-4a6c-bec9-a8272e749bcc",
   "metadata": {},
   "outputs": [],
   "source": []
  }
 ],
 "metadata": {
  "kernelspec": {
   "display_name": "Python 3 (ipykernel)",
   "language": "python",
   "name": "python3"
  },
  "language_info": {
   "codemirror_mode": {
    "name": "ipython",
    "version": 3
   },
   "file_extension": ".py",
   "mimetype": "text/x-python",
   "name": "python",
   "nbconvert_exporter": "python",
   "pygments_lexer": "ipython3",
   "version": "3.11.4"
  }
 },
 "nbformat": 4,
 "nbformat_minor": 5
}
